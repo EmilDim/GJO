{
 "cells": [
  {
   "cell_type": "code",
   "execution_count": 3,
   "metadata": {
    "inputHidden": false,
    "outputHidden": false
   },
   "outputs": [],
   "source": [
    "import pandas as pd\n",
    "import numpy as np\n",
    "from numpy import random\n",
    "from tqdm import tqdm_notebook, tqdm\n",
    "from scipy.stats import percentileofscore\n",
    "import matplotlib.pyplot as plt\n",
    "import matplotlib\n",
    "matplotlib.rc('xtick', labelsize=16)\n",
    "matplotlib.rc('ytick', labelsize=16)\n",
    "import datetime\n",
    "\n",
    "%matplotlib inline\n",
    "\n",
    "class RandomWalk():\n",
    "    \"\"\"\n",
    "    Defines a Random Walk model\n",
    "\n",
    "    Inputs:\n",
    "\n",
    "    data: takes a Pandas Series of (daily) values in a given time series\n",
    "    \"\"\"\n",
    "    def __init__(self, data):\n",
    "        self.data = data.pct_change()[1:] # get daily returns\n",
    "        self.mu = self.data.mean()\n",
    "        self.sigma = self.data.std()\n",
    "\n",
    "    # Forecasting formula\n",
    "    def random_walk(self, periods, start, mu = None, sigma = None):\n",
    "        \"\"\"\n",
    "        returns end point of a Geometric Random Walk given\n",
    "        starting value, drift, sigma, and number of periods\n",
    "\n",
    "        Equation: # dS/S = mu dt + sigma dWt\n",
    "        \"\"\"\n",
    "        if mu is None:\n",
    "            mu = self.mu\n",
    "        if sigma is None:\n",
    "            sigma = self.sigma\n",
    "\n",
    "        final_number = start\n",
    "        for i in np.arange(periods):\n",
    "            brownian = np.random.normal(loc=0.0, scale=1.0)*sigma\n",
    "            drift = mu-0.5*sigma**2\n",
    "            change = drift + brownian\n",
    "            final_number = final_number*np.exp(change)\n",
    "        return(final_number)\n",
    "\n",
    "    def monte_carlo(self, periods, start, iterations = 1000):\n",
    "        \"\"\"\n",
    "        Perform a given number of random walks\n",
    "        to get a range of final point estimates\n",
    "        \"\"\"\n",
    "        results = []\n",
    "        iter = 0\n",
    "        for i in tqdm(range(iterations)):\n",
    "            result = self.random_walk(periods, start)\n",
    "            results.append(result)\n",
    "        return(list(results))\n",
    "\n",
    "    def histogram(self, thresholds, mc_results):\n",
    "        \"\"\"\n",
    "        Generates historgram based on pre-defined\n",
    "        thresholds for the bins\n",
    "\n",
    "        Meant to work with any number of thresholds (i.e. bins)\n",
    "        \"\"\"\n",
    "        # calculate percentiles based on CDF\n",
    "        percentiles = [percentileofscore(mc_results,i, kind = 'weak') \\\n",
    "        for i in thresholds]\n",
    "\n",
    "        # return the probability for each bin\n",
    "        return([round(i,3) for i in [percentiles[0],] + \\\n",
    "        [percentiles[i+1] - percentiles[i] for i in np.arange(len(thresholds)-1)] + \\\n",
    "        [100 - percentiles[-1],]])\n",
    "\n",
    "    def plot_histogram(self, hist_results, thresholds):\n",
    "        \"\"\"\n",
    "        Plots histogram based on inputted results\n",
    "        \"\"\"\n",
    "        plt.figure(figsize=(10,6))\n",
    "        # Labels for x axis\n",
    "        x_labels = ['< ' + str(thresholds[0]),] + \\\n",
    "        [str(thresholds[i]) + '-' + str(thresholds[i+1]) \\\n",
    "        for i in np.arange(len(thresholds)-1)] + \\\n",
    "        ['> ' + str(thresholds[-1]),]\n",
    "        # Plot\n",
    "        plt.bar(x = x_labels, height = hist_results, align = 'center')\n",
    "        plt.xticks(np.arange(len(x_labels)), x_labels, rotation='45')\n",
    "        plt.ylabel('Probability', fontsize = 16)\n",
    "\n"
   ]
  },
  {
   "cell_type": "code",
   "execution_count": 2,
   "metadata": {
    "inputHidden": false,
    "outputHidden": false
   },
   "outputs": [
    {
     "name": "stderr",
     "output_type": "stream",
     "text": [
      "100%|██████████| 100/100 [00:04<00:00, 24.14it/s]\n"
     ]
    },
    {
     "data": {
      "image/png": "[encoded data removed]",
      "text/plain": [
       "<Figure size 720x432 with 1 Axes>"
      ]
     },
     "metadata": {},
     "output_type": "display_data"
    }
   ],
   "source": [
    "# Italy - Germany 10 year bond spread\n",
    "# https://www.gjopen.com/questions/1205-what-will-the-italy-germany-10-year-bond-spread-be-on-20-october-2019\n",
    "\n",
    "data_raw = pd.read_excel('./Data/ITDE_bond_spread.xlsx', index_col = 0)\n",
    "\n",
    "model = RandomWalk(data_raw)\n",
    "\n",
    "# Define current price\n",
    "start = 216\n",
    "# Define bins\n",
    "thresholds = [230, 270, 310, 350]\n",
    "\n",
    "# Define start and end of forecasting period\n",
    "start_date = datetime.date( 2019, 8, 15 )\n",
    "end_date = datetime.date( 2019, 10, 20 )\n",
    "days = np.busday_count( start_date, end_date )\n",
    "\n",
    "# Run model and get results\n",
    "results = model.monte_carlo(periods = days, start = start, iterations = 100)\n",
    "\n",
    "hist = model.histogram(thresholds = thresholds, mc_results = results)\n",
    "\n",
    "model.plot_histogram(hist, thresholds = thresholds)"
   ]
  },
  {
   "cell_type": "code",
   "execution_count": null,
   "metadata": {},
   "outputs": [],
   "source": []
  }
 ],
 "metadata": {
  "kernelspec": {
   "display_name": "Python 3",
   "language": "python",
   "name": "python3"
  },
  "language_info": {
   "codemirror_mode": {
    "name": "ipython",
    "version": 3
   },
   "file_extension": ".py",
   "mimetype": "text/x-python",
   "name": "python",
   "nbconvert_exporter": "python",
   "pygments_lexer": "ipython3",
   "version": "3.6.8"
  }
 },
 "nbformat": 4,
 "nbformat_minor": 1
}
