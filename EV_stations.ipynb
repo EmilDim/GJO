{
 "cells": [
  {
   "cell_type": "code",
   "execution_count": null,
   "metadata": {
    "inputHidden": false,
    "outputHidden": false
   },
   "outputs": [],
   "source": [
    "# European charging stations\n",
    "# Simple linear regression model to forecast\n",
    "# installations of EV charging stations for\n",
    "# GJO tournament question:\n",
    "# https://www.gjopen.com/questions/1059-on-10-december-2019-how-many-total-locations-with-combined-charging-system-ccs-fast-chargers-will-be-installed-in-the-european-area\n",
    "#\n",
    "import pandas as pd\n",
    "import numpy as np\n",
    "import matplotlib.pyplot as plt\n",
    "import statsmodels.api as sm\n",
    "\n",
    "# ~~~\n",
    "# Load data and fit model\n",
    "# ~~~\n",
    "\n",
    "# Data from Wayback Machine used with http://ccs-map.eu/stats/\n",
    "\n",
    "data = pd.Series([133, \t121, \t64,\t107, \t98, \t68, 50, \t38,\t62, \t115, \t58, \t85,66, 86, \t82, \t108, \t94,\t73, \t61, 78][::-1], index = pd.period_range(start = '2016-2-1', end = '2017-9-1', freq='M'))\n",
    "\n",
    "data = data.append(pd.Series([151, \t249, \t124, \t176, \t100, \t233][::-1], index = pd.period_range(start = '2017-10-1', end = '2018-3-1', freq='M')))\n",
    "\n",
    "data = data.append(pd.Series([159, \t148, \t191, \t115, \t166, \t121, \t75][::-1], index = pd.period_range(start = '2018-4-1', end = '2018-10-1', freq='M')))\n",
    "\n",
    "data = data.append(pd.Series([162, 172, \t144, \t346, \t393, \t160 ,\t269 ,\t210][::-1], index = pd.period_range(start = '2018-11-1', end = '2019-6-1', freq='M')))\n",
    "\n",
    "# ~~~\n",
    "# Fit model\n",
    "# ~~~\n",
    "\n",
    "x = np.arange(len(data.index))\n",
    "ols = sm.regression.linear_model.OLS(endog = data.values, exog = sm.add_constant(x)).fit()\n",
    "\n",
    "print(ols.summary())\n"
   ]
  },
  {
   "cell_type": "code",
   "execution_count": null,
   "metadata": {
    "inputHidden": false,
    "outputHidden": false
   },
   "outputs": [],
   "source": [
    "# ~~~\n",
    "# Generation future predictions\n",
    "# ~~~\n",
    "\n",
    "future_x = np.arange(41,47)\n",
    "all_x = np.arange(0,47)\n",
    "total_range = pd.period_range(start = '2016-2-1', end = '2019-12-1', freq='M')\n",
    "results_range = pd.period_range(start = '2019-7-1', end = '2019-12-1', freq='M')\n",
    "\n",
    "predictions = ols.get_prediction(exog = sm.add_constant(all_x))\n",
    "\n",
    "central = pd.Series(predictions.summary_frame(alpha=0.05)['mean'].values, index = total_range)\n",
    "low = pd.Series(predictions.summary_frame(alpha=0.05)['obs_ci_lower'].values, index = total_range)\n",
    "high = pd.Series(predictions.summary_frame(alpha=0.05)['obs_ci_upper'].values, index = total_range)\n",
    "\n",
    "print(central[-6:]) # print forecasted values from July onward\n"
   ]
  },
  {
   "cell_type": "code",
   "execution_count": null,
   "metadata": {
    "inputHidden": false,
    "outputHidden": false
   },
   "outputs": [],
   "source": [
    "# ~~~\n",
    "# Plot\n",
    "# ~~~\n",
    "\n",
    "ax = central.plot(figsize = (14,8), fontsize = 20, lw=4, label = \"predicted\")\n",
    "ax.plot(data, lw = 4, label = \"data\")\n",
    "ax.plot(low, lw=4, linestyle = \"dotted\", color = 'black', label = \"Lower 95% bound\")\n",
    "ax.plot(high, lw=4, linestyle = \"dotted\", color = 'grey', label = \"Upper 95% bound\")\n",
    "lg = ax.legend(fontsize = 20, loc ='upper left')"
   ]
  }
 ],
 "metadata": {
  "kernelspec": {
   "display_name": "Python 3",
   "language": "python",
   "name": "python3"
  },
  "language_info": {
   "codemirror_mode": {
    "name": "ipython",
    "version": 3
   },
   "file_extension": ".py",
   "mimetype": "text/x-python",
   "name": "python",
   "nbconvert_exporter": "python",
   "pygments_lexer": "ipython3",
   "version": "3.6.8"
  }
 },
 "nbformat": 4,
 "nbformat_minor": 1
}
